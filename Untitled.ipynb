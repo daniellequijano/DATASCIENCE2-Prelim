{
 "cells": [
  {
   "cell_type": "code",
   "execution_count": 1,
   "metadata": {},
   "outputs": [
    {
     "data": {
      "text/plain": [
       "'/Users/Danielle/Desktop/TIP-FILES/DATASCIENCE2'"
      ]
     },
     "execution_count": 1,
     "metadata": {},
     "output_type": "execute_result"
    }
   ],
   "source": [
    "import os\n",
    "cwd = os.getcwd()\n",
    "cwd"
   ]
  },
  {
   "cell_type": "code",
   "execution_count": 2,
   "metadata": {},
   "outputs": [
    {
     "name": "stderr",
     "output_type": "stream",
     "text": [
      "usage: ipykernel_launcher.py [-h] [--directory DIRECTORY] [--resize RESIZE]\n",
      "                             [--rotate ROTATE] [--grayscale {True,False}]\n",
      "ipykernel_launcher.py: error: unrecognized arguments: -f /Users/Danielle/Library/Jupyter/runtime/kernel-66a22dcb-e7e2-4be7-9efc-29cb012860a4.json\n"
     ]
    },
    {
     "ename": "SystemExit",
     "evalue": "2",
     "output_type": "error",
     "traceback": [
      "An exception has occurred, use %tb to see the full traceback.\n",
      "\u001b[0;31mSystemExit\u001b[0m\u001b[0;31m:\u001b[0m 2\n"
     ]
    },
    {
     "name": "stderr",
     "output_type": "stream",
     "text": [
      "/usr/local/lib/python3.7/site-packages/IPython/core/interactiveshell.py:3273: UserWarning: To exit: use 'exit', 'quit', or Ctrl-D.\n",
      "  warn(\"To exit: use 'exit', 'quit', or Ctrl-D.\", stacklevel=1)\n"
     ]
    }
   ],
   "source": [
    "import matplotlib.pyplot as plt\n",
    "\n",
    "import numpy as np \n",
    "\n",
    "import argparse\n",
    "import fnmatch\n",
    "import os\n",
    "\n",
    "parser = argparse.ArgumentParser()\n",
    "parser.add_argument('--directory', help = \"put the directory image\")\n",
    "parser.add_argument('--resize', type =int, help = \"input the resolution size\")\n",
    "parser.add_argument('--rotate', type =int, help = \"input the rotation degree\")\n",
    "parser.add_argument('--grayscale', choices = ['True','False'], help = \"input true or false if you want to grayscale\")\n",
    "args = parser.parse_args()\n",
    "\n",
    "#-----\n",
    "\n",
    "imgDIRs = args.directory\n",
    "imgResize = args.resize\n",
    "imgRotate = args.rotate\n",
    "imgGrayscale = args.grayscale\n",
    "\n",
    "images = ['\".jpg','*jpeg','*.png','*.tif', 'tiff']\n",
    "matches = []\n",
    "\n",
    "\n",
    "\n",
    "for root, dirnames, filenames in os.walk(imgDIRs):\n",
    "    for extension in images:\n",
    "        for filename in fnmatch.filter(filenames, extension):\n",
    "            matches.append(os.path.join(root, filename).replace(\"\\\\\",\"/\"))\n",
    "            print(\"Augmenting.......\")\n",
    "\n",
    "matches = [x for x in matches if not 'augmented' in x]\n",
    "\n",
    "\n",
    "for img in matches:\n",
    "    readPlotimage(img, imgResize, imgRotate, imgGrayscale)"
   ]
  },
  {
   "cell_type": "code",
   "execution_count": 18,
   "metadata": {},
   "outputs": [
    {
     "name": "stderr",
     "output_type": "stream",
     "text": [
      "usage: ipykernel_launcher.py [-h] [--directory DIRECTORY]\n",
      "ipykernel_launcher.py: error: unrecognized arguments: -f /Users/Danielle/Library/Jupyter/runtime/kernel-66a22dcb-e7e2-4be7-9efc-29cb012860a4.json\n"
     ]
    },
    {
     "ename": "SystemExit",
     "evalue": "2",
     "output_type": "error",
     "traceback": [
      "An exception has occurred, use %tb to see the full traceback.\n",
      "\u001b[0;31mSystemExit\u001b[0m\u001b[0;31m:\u001b[0m 2\n"
     ]
    }
   ],
   "source": [
    "import fnmatch\n",
    "import os\n",
    "import argparse\n",
    "\n",
    "parser = argparse.ArgumentParser()\n",
    "parser.add_argument('--directory', help = \"put the directory image\")\n",
    "args = parser.parse_args()\n",
    "\n",
    "images = ['*.jpg', '*.jpeg', '*.png', '*.tif', '*.tiff']\n",
    "matches = []\n",
    "\n",
    "imgDIRs = args.directory\n",
    "for root, dirnames, filenames in os.walk(imgDIRs):\n",
    "    for extensions in images:\n",
    "        for filename in fnmatch.filter(filenames, extensions):\n",
    "            matches.append(os.path.join(root, filename))\n",
    "print(matches)"
   ]
  },
  {
   "cell_type": "code",
   "execution_count": 13,
   "metadata": {},
   "outputs": [
    {
     "ename": "SyntaxError",
     "evalue": "invalid syntax (<ipython-input-13-8da4f6186bf3>, line 37)",
     "output_type": "error",
     "traceback": [
      "\u001b[0;36m  File \u001b[0;32m\"<ipython-input-13-8da4f6186bf3>\"\u001b[0;36m, line \u001b[0;32m37\u001b[0m\n\u001b[0;31m    matches = [x for x in matches if not 'augmented' in x]\u001b[0m\n\u001b[0m          ^\u001b[0m\n\u001b[0;31mSyntaxError\u001b[0m\u001b[0;31m:\u001b[0m invalid syntax\n"
     ]
    }
   ],
   "source": []
  },
  {
   "cell_type": "code",
   "execution_count": 20,
   "metadata": {},
   "outputs": [
    {
     "ename": "NameError",
     "evalue": "name 'rotate' is not defined",
     "output_type": "error",
     "traceback": [
      "\u001b[0;31m---------------------------------------------------------------------------\u001b[0m",
      "\u001b[0;31mNameError\u001b[0m                                 Traceback (most recent call last)",
      "\u001b[0;32m<ipython-input-20-ed9a19c0bc7d>\u001b[0m in \u001b[0;36m<module>\u001b[0;34m\u001b[0m\n\u001b[1;32m      8\u001b[0m \u001b[0;34m\u001b[0m\u001b[0m\n\u001b[1;32m      9\u001b[0m \u001b[0;34m\u001b[0m\u001b[0m\n\u001b[0;32m---> 10\u001b[0;31m \u001b[0mimgOut\u001b[0m \u001b[0;34m=\u001b[0m \u001b[0mrotate\u001b[0m\u001b[0;34m(\u001b[0m\u001b[0mimgOut\u001b[0m\u001b[0;34m,\u001b[0m\u001b[0mimgRotate\u001b[0m\u001b[0;34m)\u001b[0m\u001b[0;34m\u001b[0m\u001b[0m\n\u001b[0m",
      "\u001b[0;31mNameError\u001b[0m: name 'rotate' is not defined"
     ]
    }
   ],
   "source": [
    "import matplotlib.pyplot as plt\n",
    "import skimage\n",
    "import numpy as np \n",
    "\n",
    "import argparse\n",
    "import fnmatch\n",
    "import os\n",
    "\n",
    "\n",
    "imgOut = rotate(imgOut,imgRotate)"
   ]
  },
  {
   "cell_type": "code",
   "execution_count": null,
   "metadata": {},
   "outputs": [],
   "source": [
    "#importing library for image processing\n",
    "from skimage.io import imread\n",
    "from skimage.transform import resize\n",
    "from matplotlib import pyplot as plt\n",
    "import matplotlib.cm as cm\n",
    "from skimage.color import rgb2gray\n",
    "\n",
    "#importing the skimage\n",
    "import skimage.io"
   ]
  }
 ],
 "metadata": {
  "kernelspec": {
   "display_name": "Python 3",
   "language": "python",
   "name": "python3"
  },
  "language_info": {
   "codemirror_mode": {
    "name": "ipython",
    "version": 3
   },
   "file_extension": ".py",
   "mimetype": "text/x-python",
   "name": "python",
   "nbconvert_exporter": "python",
   "pygments_lexer": "ipython3",
   "version": "3.7.0"
  }
 },
 "nbformat": 4,
 "nbformat_minor": 2
}
